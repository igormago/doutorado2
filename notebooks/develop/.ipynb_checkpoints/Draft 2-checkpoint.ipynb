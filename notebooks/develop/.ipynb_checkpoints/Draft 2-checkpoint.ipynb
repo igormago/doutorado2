{
 "cells": [
  {
   "cell_type": "code",
   "execution_count": 3,
   "metadata": {
    "collapsed": true
   },
   "outputs": [],
   "source": [
    "from sklearn.ensemble import RandomForestClassifier\n",
    "from sklearn import cross_validation\n",
    "import pandas as pd\n",
    "import numpy as np\n",
    "import matplotlib.pyplot as plt\n",
    "\n",
    "matches =  pd.read_csv(\"../data/matches.csv\") \n",
    "tables =  pd.read_csv(\"../data/tables.csv\") \n"
   ]
  },
  {
   "cell_type": "code",
   "execution_count": 8,
   "metadata": {
    "collapsed": false
   },
   "outputs": [
    {
     "name": "stderr",
     "output_type": "stream",
     "text": [
      "/home/igormago/.local/lib/python3.5/site-packages/ipykernel/__main__.py:3: UserWarning: Boolean Series key will be reindexed to match DataFrame index.\n",
      "  app.launch_new_instance()\n"
     ]
    },
    {
     "name": "stdout",
     "output_type": "stream",
     "text": [
      "Accuracy: 0.51 (+/- 0.04)\n"
     ]
    }
   ],
   "source": [
    "\n",
    "mt =  pd.read_csv(\"../data/matches-tables.csv\") \n",
    "df = mt[mt.championship_id <= 10][mt.round_num > 4]\n",
    "df = df[df.odd_home.notnull()]\n",
    "df = df[df.odd_draw.notnull()]\n",
    "\n",
    "features = list(df.columns)\n",
    "features.remove('match_id')\n",
    "features.remove('column_result')\n",
    "features.remove('match_date')\n",
    "features.remove('goals_home')\n",
    "features.remove('goals_away')\n",
    "\n",
    "target = 'column_result'\n",
    "\n",
    "from sklearn.ensemble import RandomForestClassifier\n",
    "\n",
    "X = df[features]\n",
    "y = df[target]\n",
    "\n",
    "clf = RandomForestClassifier(n_estimators=100, max_features=20, criterion=\"gini\", min_samples_split=20, max_depth=20, bootstrap=True)\n",
    "scores = cross_validation.cross_val_score(clf, X, y, cv=10)\n",
    "print(\"Accuracy: %0.2f (+/- %0.2f)\" % (scores.mean(), scores.std() * 2))"
   ]
  },
  {
   "cell_type": "code",
   "execution_count": 26,
   "metadata": {
    "collapsed": false
   },
   "outputs": [
    {
     "name": "stdout",
     "output_type": "stream",
     "text": [
      "0.453333333333\n",
      "Accuracy: 0.51 (+/- 0.14)\n",
      "0.503401360544\n",
      "Accuracy: 0.48 (+/- 0.09)\n",
      "0.486666666667\n",
      "Accuracy: 0.48 (+/- 0.10)\n",
      "0.513333333333\n",
      "Accuracy: 0.48 (+/- 0.09)\n",
      "0.46\n",
      "Accuracy: 0.49 (+/- 0.11)\n",
      "0.493333333333\n",
      "Accuracy: 0.42 (+/- 0.13)\n",
      "0.409395973154\n",
      "Accuracy: 0.43 (+/- 0.18)\n",
      "0.5\n",
      "Accuracy: 0.50 (+/- 0.12)\n",
      "0.513333333333\n",
      "Accuracy: 0.48 (+/- 0.15)\n",
      "0.48\n",
      "Accuracy: 0.46 (+/- 0.09)\n"
     ]
    }
   ],
   "source": [
    "for i in range(1,11):\n",
    "    df = mt[mt.championship_id == i]\n",
    "    df = df[df.odd_home.notnull()]\n",
    "    df = df[df.odd_draw.notnull()]\n",
    "\n",
    "    features = list(df.columns)\n",
    "    features.remove('match_id')\n",
    "    features.remove('column_result')\n",
    "    features.remove('match_date')\n",
    "    features.remove('goals_home')\n",
    "    features.remove('goals_away')\n",
    "\n",
    "    target = 'column_result'\n",
    "\n",
    "    X = df[features]\n",
    "    y = df[target]\n",
    "\n",
    "    X_train, y_train = X[:220], y[:220]\n",
    "    X_test, y_test = X[220:], y[220:]\n",
    "\n",
    "    from sklearn.ensemble import RandomForestClassifier\n",
    "\n",
    "    clf = RandomForestClassifier(n_estimators=1000)\n",
    "    clf.fit(X_train, y_train)\n",
    "    clf.predict(X_test)\n",
    "    print(clf.score(X_test, y_test))\n",
    "    \n",
    "    scores = cross_validation.cross_val_score(clf, X, y, cv=10)\n",
    "    print(\"Accuracy: %0.2f (+/- %0.2f)\" % (scores.mean(), scores.std() * 2))"
   ]
  },
  {
   "cell_type": "code",
   "execution_count": 27,
   "metadata": {
    "collapsed": false
   },
   "outputs": [
    {
     "name": "stdout",
     "output_type": "stream",
     "text": [
      "0.488527724665\n",
      "Accuracy: 0.49 (+/- 0.03)\n"
     ]
    }
   ],
   "source": [
    "df = mt[mt.championship_id <= 7]\n",
    "df = df[df.odd_home.notnull()]\n",
    "df = df[df.odd_draw.notnull()]\n",
    "\n",
    "features = list(df.columns)\n",
    "features.remove('match_id')\n",
    "features.remove('column_result')\n",
    "features.remove('match_date')\n",
    "features.remove('goals_home')\n",
    "features.remove('goals_away')\n",
    "\n",
    "target = 'column_result'\n",
    "\n",
    "X = df[features]\n",
    "y = df[target]\n",
    "\n",
    "X_train, y_train = X[:220*7], y[:220*7]\n",
    "X_test, y_test = X[220*7:], y[220*7:]\n",
    "\n",
    "from sklearn.ensemble import RandomForestClassifier\n",
    "\n",
    "clf = RandomForestClassifier(n_estimators=1000)\n",
    "clf.fit(X_train, y_train)\n",
    "clf.predict(X_test)\n",
    "print(clf.score(X_test, y_test))\n",
    "\n",
    "scores = cross_validation.cross_val_score(clf, X, y, cv=10)\n",
    "print(\"Accuracy: %0.2f (+/- %0.2f)\" % (scores.mean(), scores.std() * 2))"
   ]
  },
  {
   "cell_type": "code",
   "execution_count": 37,
   "metadata": {
    "collapsed": false
   },
   "outputs": [
    {
     "name": "stdout",
     "output_type": "stream",
     "text": [
      "2040\n",
      "2036\n",
      "0.513071895425\n",
      "Accuracy: 0.47 (+/- 0.07)\n"
     ]
    }
   ],
   "source": [
    "df = mt[(mt.round_num > 4)]\n",
    "print(len(df))\n",
    "df = df[df.odd_home.notnull()]\n",
    "df = df[df.odd_draw.notnull()]\n",
    "\n",
    "print(len(df))\n",
    "features = list(df.columns)\n",
    "features.remove('match_id')\n",
    "features.remove('column_result')\n",
    "features.remove('match_date')\n",
    "features.remove('goals_home')\n",
    "features.remove('goals_away')\n",
    "features.remove('odd_home')\n",
    "features.remove('odd_draw')\n",
    "features.remove('odd_away')\n",
    "\n",
    "target = 'column_result'\n",
    "\n",
    "X = df[features]\n",
    "y = df[target]\n",
    "\n",
    "X_train, y_train = X[:1424], y[:1424]\n",
    "X_test, y_test = X[1424:], y[1424:]\n",
    "\n",
    "from sklearn.ensemble import RandomForestClassifier\n",
    "\n",
    "clf = RandomForestClassifier(n_estimators=1000)\n",
    "clf.fit(X_train, y_train)\n",
    "clf.predict(X_test)\n",
    "print(clf.score(X_test, y_test))\n",
    "\n",
    "scores = cross_validation.cross_val_score(clf, X, y, cv=10)\n",
    "print(\"Accuracy: %0.2f (+/- %0.2f)\" % (scores.mean(), scores.std() * 2))"
   ]
  },
  {
   "cell_type": "code",
   "execution_count": null,
   "metadata": {
    "collapsed": true
   },
   "outputs": [],
   "source": []
  }
 ],
 "metadata": {
  "anaconda-cloud": {},
  "kernelspec": {
   "display_name": "Python (myenv)",
   "language": "python",
   "name": "myenv"
  },
  "language_info": {
   "codemirror_mode": {
    "name": "ipython",
    "version": 3
   },
   "file_extension": ".py",
   "mimetype": "text/x-python",
   "name": "python",
   "nbconvert_exporter": "python",
   "pygments_lexer": "ipython3",
   "version": "3.5.2"
  }
 },
 "nbformat": 4,
 "nbformat_minor": 0
}
